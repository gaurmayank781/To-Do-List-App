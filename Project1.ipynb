{
 "cells": [
  {
   "cell_type": "code",
   "execution_count": 1,
   "id": "37b7701c-d005-41a8-8508-e25fce126903",
   "metadata": {},
   "outputs": [],
   "source": [
    "import json\n",
    "\n",
    "# Load tasks from the JSON file\n",
    "def load_tasks():\n",
    "    try:\n",
    "        with open('tasks.json', 'r') as file:\n",
    "            tasks = json.load(file)\n",
    "    except FileNotFoundError:\n",
    "        tasks = []\n",
    "    return tasks\n",
    "\n",
    "# Save tasks to the JSON file\n",
    "def save_tasks(tasks):\n",
    "    with open('tasks.json', 'w') as file:\n",
    "        json.dump(tasks, file, indent=4)\n"
   ]
  },
  {
   "cell_type": "code",
   "execution_count": 5,
   "id": "c810d9dc-ff7a-47be-8c07-0d81917da577",
   "metadata": {},
   "outputs": [],
   "source": [
    "###Adding a Task"
   ]
  },
  {
   "cell_type": "code",
   "execution_count": 7,
   "id": "a0a84fcb-491b-427a-9def-cc77c0f5e02b",
   "metadata": {},
   "outputs": [],
   "source": [
    "def add_task(task):\n",
    "    tasks = load_tasks()\n",
    "    tasks.append({\"task\": task, \"completed\": False})\n",
    "    save_tasks(tasks)\n",
    "    print(f\"Added task: {task}\")\n"
   ]
  },
  {
   "cell_type": "code",
   "execution_count": 9,
   "id": "19bbdfd5-b0ac-45bd-8d10-d392a4590c49",
   "metadata": {},
   "outputs": [],
   "source": [
    "## Viewing Task"
   ]
  },
  {
   "cell_type": "code",
   "execution_count": 11,
   "id": "2b95b639-08aa-4ef5-9eb4-f39476be474b",
   "metadata": {},
   "outputs": [],
   "source": [
    "def view_tasks():\n",
    "    tasks = load_tasks()\n",
    "    if not tasks:\n",
    "        print(\"No tasks available.\")\n",
    "    else:\n",
    "        print(\"To-Do List:\")\n",
    "        for index, task in enumerate(tasks, start=1):\n",
    "            status = \"✓\" if task[\"completed\"] else \"✗\"\n",
    "            print(f\"{index}. {task['task']} [{status}]\")\n"
   ]
  },
  {
   "cell_type": "code",
   "execution_count": 13,
   "id": "f3cfb99c-3899-4107-89c9-e01e7499d7de",
   "metadata": {},
   "outputs": [],
   "source": [
    "### mark a task is Completed"
   ]
  },
  {
   "cell_type": "code",
   "execution_count": 15,
   "id": "ac714d3b-7ffe-4ced-9a59-a4422e4697aa",
   "metadata": {},
   "outputs": [],
   "source": [
    "def complete_task(task_number):\n",
    "    tasks = load_tasks()\n",
    "    if 0 < task_number <= len(tasks):\n",
    "        tasks[task_number - 1][\"completed\"] = True\n",
    "        save_tasks(tasks)\n",
    "        print(f\"Task {task_number} marked as completed.\")\n",
    "    else:\n",
    "        print(\"Invalid task number.\")\n"
   ]
  },
  {
   "cell_type": "code",
   "execution_count": 17,
   "id": "3002105c-cc57-4390-bb23-1d0078365328",
   "metadata": {},
   "outputs": [],
   "source": [
    "### Deleting a task"
   ]
  },
  {
   "cell_type": "code",
   "execution_count": 19,
   "id": "d4446d15-8ca9-4ae2-9323-51546bfb1acc",
   "metadata": {},
   "outputs": [],
   "source": [
    "def delete_task(task_number):\n",
    "    tasks = load_tasks()\n",
    "    if 0 < task_number <= len(tasks):\n",
    "        removed_task = tasks.pop(task_number - 1)\n",
    "        save_tasks(tasks)\n",
    "        print(f\"Deleted task: {removed_task['task']}\")\n",
    "    else:\n",
    "        print(\"Invalid task number.\")\n"
   ]
  },
  {
   "cell_type": "code",
   "execution_count": 21,
   "id": "16c71011-ac38-4fd0-a6e9-44a318c63d2f",
   "metadata": {},
   "outputs": [],
   "source": [
    "### Main Loop"
   ]
  },
  {
   "cell_type": "code",
   "execution_count": 23,
   "id": "e3def865-e87e-40a7-8d78-a9b2d818a589",
   "metadata": {},
   "outputs": [],
   "source": [
    "def main():\n",
    "    while True:\n",
    "        print(\"\\nTo-Do List App\")\n",
    "        print(\"1. View tasks\")\n",
    "        print(\"2. Add a task\")\n",
    "        print(\"3. Mark a task as completed\")\n",
    "        print(\"4. Delete a task\")\n",
    "        print(\"5. Exit\")\n",
    "\n",
    "        choice = input(\"Choose an option: \")\n",
    "\n",
    "        if choice == '1':\n",
    "            view_tasks()\n",
    "        elif choice == '2':\n",
    "            task = input(\"Enter the task description: \")\n",
    "            add_task(task)\n",
    "        elif choice == '3':\n",
    "            task_number = int(input(\"Enter task number to mark as completed: \"))\n",
    "            complete_task(task_number)\n",
    "        elif choice == '4':\n",
    "            task_number = int(input(\"Enter task number to delete: \"))\n",
    "            delete_task(task_number)\n",
    "        elif choice == '5':\n",
    "            print(\"Exiting the To-Do List App.\")\n",
    "            break\n",
    "        else:\n",
    "            print(\"Invalid choice. Please select a valid option.\")\n"
   ]
  },
  {
   "cell_type": "code",
   "execution_count": 25,
   "id": "24506e0a-daef-4d33-b09b-580cd6ecd58d",
   "metadata": {},
   "outputs": [],
   "source": [
    "### Running the program"
   ]
  },
  {
   "cell_type": "code",
   "execution_count": 33,
   "id": "fc9fe70d-8735-4b3c-ae30-83d792c6ff3a",
   "metadata": {},
   "outputs": [
    {
     "name": "stdout",
     "output_type": "stream",
     "text": [
      "\n",
      "To-Do List App\n",
      "1. View tasks\n",
      "2. Add a task\n",
      "3. Mark a task as completed\n",
      "4. Delete a task\n",
      "5. Exit\n"
     ]
    },
    {
     "name": "stdin",
     "output_type": "stream",
     "text": [
      "Choose an option:  1\n"
     ]
    },
    {
     "name": "stdout",
     "output_type": "stream",
     "text": [
      "No tasks available.\n",
      "\n",
      "To-Do List App\n",
      "1. View tasks\n",
      "2. Add a task\n",
      "3. Mark a task as completed\n",
      "4. Delete a task\n",
      "5. Exit\n"
     ]
    },
    {
     "name": "stdin",
     "output_type": "stream",
     "text": [
      "Choose an option:  2\n",
      "Enter the task description:  jump and dance\n"
     ]
    },
    {
     "name": "stdout",
     "output_type": "stream",
     "text": [
      "Added task: jump and dance\n",
      "\n",
      "To-Do List App\n",
      "1. View tasks\n",
      "2. Add a task\n",
      "3. Mark a task as completed\n",
      "4. Delete a task\n",
      "5. Exit\n"
     ]
    },
    {
     "name": "stdin",
     "output_type": "stream",
     "text": [
      "Choose an option:  1\n"
     ]
    },
    {
     "name": "stdout",
     "output_type": "stream",
     "text": [
      "To-Do List:\n",
      "1. jump and dance [✗]\n",
      "\n",
      "To-Do List App\n",
      "1. View tasks\n",
      "2. Add a task\n",
      "3. Mark a task as completed\n",
      "4. Delete a task\n",
      "5. Exit\n"
     ]
    },
    {
     "name": "stdin",
     "output_type": "stream",
     "text": [
      "Choose an option:  3\n",
      "Enter task number to mark as completed:  1\n"
     ]
    },
    {
     "name": "stdout",
     "output_type": "stream",
     "text": [
      "Task 1 marked as completed.\n",
      "\n",
      "To-Do List App\n",
      "1. View tasks\n",
      "2. Add a task\n",
      "3. Mark a task as completed\n",
      "4. Delete a task\n",
      "5. Exit\n"
     ]
    },
    {
     "name": "stdin",
     "output_type": "stream",
     "text": [
      "Choose an option:  5\n"
     ]
    },
    {
     "name": "stdout",
     "output_type": "stream",
     "text": [
      "Exiting the To-Do List App.\n"
     ]
    }
   ],
   "source": [
    "if __name__ == \"__main__\":\n",
    "    main()\n"
   ]
  },
  {
   "cell_type": "code",
   "execution_count": null,
   "id": "8cb8eb2b-3c0a-4978-9486-354c2e4a252f",
   "metadata": {},
   "outputs": [],
   "source": []
  }
 ],
 "metadata": {
  "kernelspec": {
   "display_name": "Python 3 (ipykernel)",
   "language": "python",
   "name": "python3"
  },
  "language_info": {
   "codemirror_mode": {
    "name": "ipython",
    "version": 3
   },
   "file_extension": ".py",
   "mimetype": "text/x-python",
   "name": "python",
   "nbconvert_exporter": "python",
   "pygments_lexer": "ipython3",
   "version": "3.12.4"
  }
 },
 "nbformat": 4,
 "nbformat_minor": 5
}
